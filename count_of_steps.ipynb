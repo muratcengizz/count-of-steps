{
 "cells": [
  {
   "cell_type": "code",
   "execution_count": 1,
   "id": "520959fd-adad-4020-a2d4-372193d19cca",
   "metadata": {},
   "outputs": [],
   "source": [
    "import cv2\n",
    "import mediapipe as mp"
   ]
  },
  {
   "cell_type": "code",
   "execution_count": 4,
   "id": "20537c90-4367-459c-acf1-9f5a98c54324",
   "metadata": {},
   "outputs": [],
   "source": [
    "video = cv2.VideoCapture(filename='videos/video1.mp4')\n",
    "width = int(video.get(cv2.CAP_PROP_FRAME_WIDTH))\n",
    "height = int(video.get(cv2.CAP_PROP_FRAME_HEIGHT))\n",
    "writer = cv2.VideoWriter(filename='number_of_steps.mp4',\n",
    "                         fourcc=cv2.VideoWriter_fourcc(*\"DIVX\"),\n",
    "                         fps=25,\n",
    "                         frameSize=(width, height))\n",
    "\n",
    "mpPose = mp.solutions.pose\n",
    "pose = mpPose.Pose()\n",
    "\n",
    "drawing = mp.solutions.drawing_utils\n",
    "\n",
    "adim_sayisi = 0\n",
    "adim_atildi = False\n",
    "\n",
    "while True:\n",
    "    retval, img = video.read()\n",
    "    if not retval: break\n",
    "    \n",
    "    \n",
    "    results = pose.process(image=img).pose_landmarks\n",
    "    \n",
    "    landmarkList = []\n",
    "    if results:\n",
    "        \n",
    "        \n",
    "        drawing.draw_landmarks(image=img,\n",
    "                               landmark_list=results,\n",
    "                               connections=mpPose.POSE_CONNECTIONS)\n",
    "        for id, landmark in enumerate(results.landmark):\n",
    "            height, width, color = img.shape\n",
    "            cx, cy = int(landmark.x * width), int(landmark.y * height)\n",
    "            landmarkList.append([id, cx, cy])\n",
    "        \n",
    "      \n",
    "        sag_ayak_y =  landmarkList[26][2]\n",
    "        sol_ayak_y =  landmarkList[25][2]\n",
    "        \n",
    "        if sol_ayak_y > sag_ayak_y and not adim_atildi:\n",
    "            adim_sayisi += 1\n",
    "            adim_atildi = True\n",
    "        elif sol_ayak_y < sag_ayak_y:\n",
    "            adim_atildi = False\n",
    "            \n",
    "        cv2.putText(img=img,\n",
    "                    text=f\"Adim Sayisi: {adim_sayisi}\",\n",
    "                    org=(30, 30),\n",
    "                    fontFace=cv2.FONT_HERSHEY_DUPLEX,\n",
    "                    fontScale=0.7,\n",
    "                    color=(0, 0, 255),\n",
    "                    thickness=3)\n",
    "    \n",
    "    writer.write(image=img)\n",
    "    #img = cv2.flip(src=img, flipCode=1)\n",
    "    cv2.imshow(winname='Video', mat=img)\n",
    "    if cv2.waitKey(30) == ord('q'): break\n",
    "\n",
    "writer.release()\n",
    "video.release()\n",
    "cv2.destroyAllWindows()"
   ]
  }
 ],
 "metadata": {
  "kernelspec": {
   "display_name": "Python 3 (ipykernel)",
   "language": "python",
   "name": "python3"
  },
  "language_info": {
   "codemirror_mode": {
    "name": "ipython",
    "version": 3
   },
   "file_extension": ".py",
   "mimetype": "text/x-python",
   "name": "python",
   "nbconvert_exporter": "python",
   "pygments_lexer": "ipython3",
   "version": "3.9.12"
  }
 },
 "nbformat": 4,
 "nbformat_minor": 5
}
